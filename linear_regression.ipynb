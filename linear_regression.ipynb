{
  "nbformat": 4,
  "nbformat_minor": 0,
  "metadata": {
    "colab": {
      "provenance": [],
      "gpuType": "T4",
      "authorship_tag": "ABX9TyPh9ADEjR0tZdZlOlzxN5iI",
      "include_colab_link": true
    },
    "kernelspec": {
      "name": "python3",
      "display_name": "Python 3"
    },
    "language_info": {
      "name": "python"
    },
    "accelerator": "GPU"
  },
  "cells": [
    {
      "cell_type": "markdown",
      "metadata": {
        "id": "view-in-github",
        "colab_type": "text"
      },
      "source": [
        "<a href=\"https://colab.research.google.com/github/Akhilvijayanponmudy/pytorch/blob/main/linear_regression.ipynb\" target=\"_parent\"><img src=\"https://colab.research.google.com/assets/colab-badge.svg\" alt=\"Open In Colab\"/></a>"
      ]
    },
    {
      "cell_type": "code",
      "execution_count": 16,
      "metadata": {
        "id": "a92p7_9QeRsz"
      },
      "outputs": [],
      "source": [
        "#Description:\n",
        "#In this project, you'll implement linear regression using PyTorch without relying on high-level abstractions. This helps understand how tensors, gradients, and optimization work under the hood.\n",
        "\n",
        "#Goal:\n",
        "#Fit a line y = wx + b to data using PyTorch tensors and gradient descent.\n",
        "\n",
        "\n",
        "import torch\n",
        "import torch.nn as nn\n"
      ]
    },
    {
      "cell_type": "code",
      "source": [
        "\n",
        "# Sample input and target output data\n",
        "X = torch.tensor([[1.0], [2.0], [3.0], [4.0]]) # Feature input\n",
        "Y = torch.tensor([[2.0], [4.0], [6.0], [8.0]]) # Target output\n"
      ],
      "metadata": {
        "id": "KpHvQXutnP_Y"
      },
      "execution_count": 17,
      "outputs": []
    },
    {
      "cell_type": "code",
      "source": [
        "\n",
        "# Define a simple linear model: y = wx + b\n",
        "model = nn.Linear(in_features=1, out_features=1)\n"
      ],
      "metadata": {
        "id": "umLfx2jynTPY"
      },
      "execution_count": 18,
      "outputs": []
    },
    {
      "cell_type": "code",
      "source": [
        "\n",
        "# Define the Mean Squared Error loss function\n",
        "criterion = nn.MSELoss()\n"
      ],
      "metadata": {
        "id": "D0glcflmnWKE"
      },
      "execution_count": 19,
      "outputs": []
    },
    {
      "cell_type": "code",
      "source": [
        "\n",
        "# Use stochastic gradient descent optimizer to update weights\n",
        "optimizer = torch.optim.SGD(model.parameters(), lr=0.01)\n"
      ],
      "metadata": {
        "id": "Ce8kcoixnZa3"
      },
      "execution_count": 20,
      "outputs": []
    },
    {
      "cell_type": "code",
      "source": [
        "\n",
        "# Training loop\n",
        "for epoch in range(1000): # Run for 1000 epochs\n",
        "    y_pred = model(X) # Forward pass: predict output\n",
        "\n",
        "    loss = criterion(y_pred, Y) # Compute MSE loss\n",
        "\n",
        "    optimizer.zero_grad() # Clear previous gradients\n",
        "\n",
        "    loss.backward() # Backpropagation: compute gradients\n",
        "\n",
        "    optimizer.step() # Update weights using gradients\n",
        "\n",
        "    # Print progress every 100 epochs\n",
        "    if (epoch + 1) % 100 == 0:\n",
        "        print(f'Epoch {epoch+1}, Loss: {loss.item():.4f}')\n"
      ],
      "metadata": {
        "colab": {
          "base_uri": "https://localhost:8080/"
        },
        "id": "M1_jpauTncDd",
        "outputId": "9c8e9f81-4c3c-4af4-e3c9-f32d1ff8c60c"
      },
      "execution_count": 21,
      "outputs": [
        {
          "output_type": "stream",
          "name": "stdout",
          "text": [
            "Epoch 100, Loss: 0.0094\n",
            "Epoch 200, Loss: 0.0052\n",
            "Epoch 300, Loss: 0.0028\n",
            "Epoch 400, Loss: 0.0016\n",
            "Epoch 500, Loss: 0.0009\n",
            "Epoch 600, Loss: 0.0005\n",
            "Epoch 700, Loss: 0.0003\n",
            "Epoch 800, Loss: 0.0001\n",
            "Epoch 900, Loss: 0.0001\n",
            "Epoch 1000, Loss: 0.0000\n"
          ]
        }
      ]
    },
    {
      "cell_type": "code",
      "source": [
        "\n",
        "# After training, print the learned weight and bias\n",
        "params = list(model.parameters())\n",
        "print(f'Learned weight: {params[0].item():.4f}, bias: {params[1].item():.4f}')\n"
      ],
      "metadata": {
        "colab": {
          "base_uri": "https://localhost:8080/"
        },
        "id": "bJ1hR7ZVnkHE",
        "outputId": "444036bb-acbd-4d57-8c6f-33a6d0aef100"
      },
      "execution_count": 22,
      "outputs": [
        {
          "output_type": "stream",
          "name": "stdout",
          "text": [
            "Learned weight: 1.9946, bias: 0.0159\n"
          ]
        }
      ]
    }
  ]
}