{
  "nbformat": 4,
  "nbformat_minor": 0,
  "metadata": {
    "colab": {
      "provenance": [],
      "authorship_tag": "ABX9TyPzDfjvaQ6gleY3HhvjZHqc",
      "include_colab_link": true
    },
    "kernelspec": {
      "name": "python3",
      "display_name": "Python 3"
    },
    "language_info": {
      "name": "python"
    }
  },
  "cells": [
    {
      "cell_type": "markdown",
      "metadata": {
        "id": "view-in-github",
        "colab_type": "text"
      },
      "source": [
        "<a href=\"https://colab.research.google.com/github/Akhilvijayanponmudy/pytorch/blob/main/creating_tensors.ipynb\" target=\"_parent\"><img src=\"https://colab.research.google.com/assets/colab-badge.svg\" alt=\"Open In Colab\"/></a>"
      ]
    },
    {
      "cell_type": "code",
      "execution_count": 1,
      "metadata": {
        "id": "QFN5UXnYbbVj"
      },
      "outputs": [],
      "source": [
        "import torch\n",
        "tensor_from_list = torch.tensor([1,2,3])"
      ]
    },
    {
      "cell_type": "code",
      "source": [
        "print(tensor_from_list)"
      ],
      "metadata": {
        "colab": {
          "base_uri": "https://localhost:8080/"
        },
        "id": "pM80ulJccVC1",
        "outputId": "aaf566a5-f818-4915-c04e-0dcc1c4fa0ce"
      },
      "execution_count": 2,
      "outputs": [
        {
          "output_type": "stream",
          "name": "stdout",
          "text": [
            "tensor([1, 2, 3])\n"
          ]
        }
      ]
    },
    {
      "cell_type": "code",
      "source": [
        "import numpy as np\n",
        "numpy_array = np.array([[1,2,3],[4,5,6]])\n",
        "tensor_from_numpy = torch.tensor(numpy_array)\n",
        "print(tensor_from_numpy)"
      ],
      "metadata": {
        "colab": {
          "base_uri": "https://localhost:8080/"
        },
        "id": "lcCEesnQcccX",
        "outputId": "f2c52276-097f-48d3-f849-e94e28b64141"
      },
      "execution_count": 3,
      "outputs": [
        {
          "output_type": "stream",
          "name": "stdout",
          "text": [
            "tensor([[1, 2, 3],\n",
            "        [4, 5, 6]])\n"
          ]
        }
      ]
    },
    {
      "cell_type": "code",
      "source": [
        "#crating tensors with specific values\n",
        "\n",
        "tensor_zeros = torch.zeros(3,3)\n",
        "tensor_ones = torch.ones(2,2)\n",
        "print(tensor_zeros)\n",
        "print(tensor_ones)"
      ],
      "metadata": {
        "colab": {
          "base_uri": "https://localhost:8080/"
        },
        "id": "ddkZ-QE4dHEe",
        "outputId": "6ff8c605-7ca9-4164-8015-5ea2c48f0fa6"
      },
      "execution_count": 4,
      "outputs": [
        {
          "output_type": "stream",
          "name": "stdout",
          "text": [
            "tensor([[0., 0., 0.],\n",
            "        [0., 0., 0.],\n",
            "        [0., 0., 0.]])\n",
            "tensor([[1., 1.],\n",
            "        [1., 1.]])\n"
          ]
        }
      ]
    },
    {
      "cell_type": "code",
      "source": [
        "#Random Tensors\n",
        "\n",
        "random_tensor = torch.rand(4,4)\n",
        "normal_tensor = torch.randn(4,4)\n",
        "print(random_tensor)\n",
        "print(normal_tensor)"
      ],
      "metadata": {
        "colab": {
          "base_uri": "https://localhost:8080/"
        },
        "id": "OH4Hgg_6dkbk",
        "outputId": "ca29e77b-1baf-4dd4-80cd-36fce949a5a0"
      },
      "execution_count": 5,
      "outputs": [
        {
          "output_type": "stream",
          "name": "stdout",
          "text": [
            "tensor([[0.9747, 0.7985, 0.9739, 0.8312],\n",
            "        [0.2866, 0.7681, 0.8995, 0.5496],\n",
            "        [0.5556, 0.2984, 0.1962, 0.2641],\n",
            "        [0.7824, 0.3885, 0.1726, 0.1652]])\n",
            "tensor([[-0.0781, -0.2852,  1.0412, -1.1473],\n",
            "        [ 0.1825,  1.1878, -0.7150,  1.6304],\n",
            "        [ 0.1787, -1.1809, -1.6999, -0.8321],\n",
            "        [ 0.3259, -0.2865,  0.7934,  0.4104]])\n"
          ]
        }
      ]
    }
  ]
}