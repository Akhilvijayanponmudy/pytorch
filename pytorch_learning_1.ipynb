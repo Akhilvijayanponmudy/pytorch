{
  "nbformat": 4,
  "nbformat_minor": 0,
  "metadata": {
    "colab": {
      "provenance": [],
      "gpuType": "T4",
      "authorship_tag": "ABX9TyMxxccG9vCBEcuxsSVI1hxw",
      "include_colab_link": true
    },
    "kernelspec": {
      "name": "python3",
      "display_name": "Python 3"
    },
    "language_info": {
      "name": "python"
    },
    "accelerator": "GPU"
  },
  "cells": [
    {
      "cell_type": "markdown",
      "metadata": {
        "id": "view-in-github",
        "colab_type": "text"
      },
      "source": [
        "<a href=\"https://colab.research.google.com/github/Akhilvijayanponmudy/pytorch/blob/main/pytorch_learning_1.ipynb\" target=\"_parent\"><img src=\"https://colab.research.google.com/assets/colab-badge.svg\" alt=\"Open In Colab\"/></a>"
      ]
    },
    {
      "cell_type": "code",
      "execution_count": null,
      "metadata": {
        "id": "FH3FSW-pW_dV"
      },
      "outputs": [],
      "source": [
        "import torch\n"
      ]
    },
    {
      "cell_type": "code",
      "source": [
        "tensor_a =torch.rand(3,3)\n",
        "tensor_b =torch.rand(3,3)\n",
        "\n",
        "result = torch.matmul(tensor_a,tensor_b)"
      ],
      "metadata": {
        "id": "wsbqJ-AeXOfp"
      },
      "execution_count": null,
      "outputs": []
    },
    {
      "cell_type": "code",
      "source": [
        "print(tensor_a)\n",
        "print(\"------------------------\")\n",
        "\n",
        "print(tensor_b)\n",
        "print(\"------------------------\")\n",
        "\n",
        "print(result)\n"
      ],
      "metadata": {
        "colab": {
          "base_uri": "https://localhost:8080/"
        },
        "id": "MDS46IgQXX1v",
        "outputId": "70b3509a-4253-4c41-bfef-d418c8b3c484"
      },
      "execution_count": null,
      "outputs": [
        {
          "output_type": "stream",
          "name": "stdout",
          "text": [
            "tensor([[0.2737, 0.1663, 0.3654],\n",
            "        [0.7605, 0.4881, 0.3352],\n",
            "        [0.5168, 0.7740, 0.8536]])\n",
            "------------------------\n",
            "tensor([[0.6641, 0.0666, 0.3115],\n",
            "        [0.8826, 0.0263, 0.1433],\n",
            "        [0.2201, 0.5848, 0.4555]])\n",
            "------------------------\n",
            "tensor([[0.4090, 0.2363, 0.2755],\n",
            "        [1.0096, 0.2595, 0.4595],\n",
            "        [1.2143, 0.5540, 0.6607]])\n"
          ]
        }
      ]
    },
    {
      "cell_type": "code",
      "source": [
        "if torch.cuda.is_available():\n",
        "    torch_a=tensor_a.to('cuda')\n",
        "    torch_b=tensor_b.to('cuda')\n",
        "    result=torch.matmul(torch_a,torch_b)\n",
        "    print(result)\n",
        "\n",
        "else:\n",
        "    print(\"Torch.cuda is not available\")"
      ],
      "metadata": {
        "colab": {
          "base_uri": "https://localhost:8080/"
        },
        "id": "lUPZEVX3Xaw9",
        "outputId": "7142c673-2704-42dc-8e40-fa77ffcbdfac"
      },
      "execution_count": null,
      "outputs": [
        {
          "output_type": "stream",
          "name": "stdout",
          "text": [
            "tensor([[0.4090, 0.2363, 0.2755],\n",
            "        [1.0096, 0.2595, 0.4595],\n",
            "        [1.2143, 0.5540, 0.6607]], device='cuda:0')\n"
          ]
        }
      ]
    },
    {
      "cell_type": "code",
      "source": [],
      "metadata": {
        "id": "3Y6LgrtiXTmM"
      },
      "execution_count": null,
      "outputs": []
    }
  ]
}